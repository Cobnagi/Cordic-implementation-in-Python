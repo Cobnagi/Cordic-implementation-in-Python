{
 "cells": [
  {
   "cell_type": "markdown",
   "metadata": {},
   "source": [
    "# CORDIC Algorithm\n",
    "**CO**ordinate **R**otation **DI**gital **C**omputer (CORDIC) is an algorithm which uses rotation of vector to calculate trignometric and hyperbolic functions. CORDIC algorithms as in present forms were first described by Volder in 1959 in his paper *The CORDIC Trigonometric Computing Technique*. They were first developed to replace analog resolver in B-58 bombers with digital solution."
   ]
  },
  {
   "cell_type": "markdown",
   "metadata": {},
   "source": [
    "## Contents"
   ]
  },
  {
   "cell_type": "markdown",
   "metadata": {},
   "source": [
    "* Working\n",
    "* Basics of CORDIC algorithm\n",
    "* Modes of CORDIC algorithm\n",
    "    * Rotation mode\n",
    "    * Vector mode\n",
    "* Imports and global declarations\n",
    "* Python implementation of **rotation mode**\n",
    "    * Calculations of rotation mode\n",
    "        * Plot of $x_i$\n",
    "        * Plot of $y_i$\n",
    "        * Plot of $z_i$\n",
    "* Python implementation of **vector mode**\n",
    "    * Calculations of vector mode\n",
    "        * Plot of $x_i$\n",
    "        * Plot of $y_i$\n",
    "        * Plot of $z_i$\n",
    "* Pre-calculated results\n",
    "* Notes\n",
    "* References"
   ]
  },
  {
   "cell_type": "markdown",
   "metadata": {},
   "source": [
    "## Working"
   ]
  },
  {
   "cell_type": "markdown",
   "metadata": {},
   "source": [
    "CORDIC algorithms works on the principle of rotation of vector. CORDIC algrithms are based on the fact that rotation of a vector in eucledian space are dependent on **sine** and **cosine** of rotation angle. Based on this CORDIC algorithms usually works by rotating vector similar to a damping motion of a pendulumn till it reaches desired angular value (usually $0^o$)."
   ]
  },
  {
   "cell_type": "markdown",
   "metadata": {},
   "source": [
    "Since CORDIC algorithms operate in different modes and coordinate systems to produce different results, it is easier to analyse their behaviour separetly. \n",
    "\n",
    "Generally CORDIC algorithms are classified into two mode of operation:\n",
    "1. Rotation Mode\n",
    "2. Vector Mode"
   ]
  },
  {
   "cell_type": "markdown",
   "metadata": {},
   "source": [
    "## Basics of CORDIC algorithm"
   ]
  },
  {
   "cell_type": "markdown",
   "metadata": {},
   "source": [
    "CORDIC algorithms exploit the fact that on rotation of a vector ((0, 0)$\\rightarrow$ (x, y)) by $\\theta^o$ new co-ordinates of a vector are:"
   ]
  },
  {
   "cell_type": "markdown",
   "metadata": {},
   "source": [
    "\\begin{equation}\n",
    "    x' = x\\cos(\\phi) - y\\sin(\\phi)\n",
    "\\end{equation}\n",
    "\\begin{equation}\n",
    "    y' = x\\sin(\\phi) + y\\cos(\\phi)\n",
    "\\end{equation}"
   ]
  },
  {
   "cell_type": "markdown",
   "metadata": {},
   "source": [
    "Using basic trignometric identies these equations can be shown to be equivalent to:"
   ]
  },
  {
   "cell_type": "markdown",
   "metadata": {
    "collapsed": true
   },
   "source": [
    "\\begin{equation}\n",
    "    x' = A\\cdot(x - y\\tan(\\phi))\n",
    "\\end{equation}\n",
    "\\begin{equation}\n",
    "    y' = A\\cdot(x\\tan(\\phi) + y)\n",
    "\\end{equation}\n",
    "\n",
    "\\begin{equation}\n",
    "A = \\frac{1}{\\sqrt{1+\\tan^2(\\phi)}}\n",
    "\\end{equation}\n",
    "\\begin{equation}...[Eq 1.1]\n",
    "\\end{equation}"
   ]
  },
  {
   "cell_type": "markdown",
   "metadata": {},
   "source": [
    "These equations can be seperated into two parts, A which scales the magnitude of vector and rest of the part which performs vector rotation. If we get rid of A these set of equations will perform psuedo rotations."
   ]
  },
  {
   "cell_type": "markdown",
   "metadata": {},
   "source": [
    "If instead of single $-\\theta^\\circ$ rotation vector are rotated through multiple angles which sums to $-\\theta^\\circ$. "
   ]
  },
  {
   "cell_type": "markdown",
   "metadata": {},
   "source": [
    "In current form these equations require multipliers but if we restrict each of the iteration to an angle such that $\\tan{(\\phi_i)} = 2^{-i}$. In iterative form equations now are:"
   ]
  },
  {
   "cell_type": "markdown",
   "metadata": {},
   "source": [
    "\\begin{equation}\n",
    "    x_{i+1} = x_{i} - y_{i} \\cdot d_{i} \\cdot 2^{-i}      \n",
    "\\end{equation}\n",
    "\n",
    "\n",
    "\\begin{equation}\n",
    "    y_{i+1} = y_{i} + x_{i} \\cdot d_{i} \\cdot 2^{-i}\n",
    "\\end{equation}\n",
    "\n",
    "\\begin{equation}\n",
    "    z_{i+1} = Z_{i} - d_{i} \\cdot tan^{-1}(2^{-i})     \n",
    "\\end{equation}\n"
   ]
  },
  {
   "cell_type": "markdown",
   "metadata": {},
   "source": [
    "<img src=\"varArcTan.png\" width=\"500\" height=\"500\" />"
   ]
  },
  {
   "cell_type": "markdown",
   "metadata": {},
   "source": [
    "One thing that is worth noticing is for increase in value of i, decrease in value of $tan^{-1}(2^{-i})$ is less than half of $tan^{-1}(2^{-(i-1)})$. Or mathematically:"
   ]
  },
  {
   "cell_type": "markdown",
   "metadata": {},
   "source": [
    "\\begin{equation}\n",
    "tan^{-1}(2^{-(i)}) \\geq \\frac{1}{2} tan^{-1}(2^{-(i+1)})\n",
    "\\end{equation}"
   ]
  },
  {
   "cell_type": "markdown",
   "metadata": {},
   "source": [
    "This is very important for convergence of value in either of the mode, if value of does not convergence in specific case we'll have to repeat certain iterations to get convergence."
   ]
  },
  {
   "cell_type": "markdown",
   "metadata": {},
   "source": [
    "# Modes of CORDIC Algorithms\n",
    "CORDIC algorithms is usualy operated in one of the following two modes:\n",
    "* **Rotation mode** \n",
    "* **Vector mode**\n"
   ]
  },
  {
   "cell_type": "markdown",
   "metadata": {},
   "source": [
    "## Rotation Mode\n",
    "Instead of performing rotation by an angle in one go, multiple small rotations are performed over number of iterations. After each iteration total sum of rotation is equal to the desired angle. \n",
    "In rotation mode vector is initialised with given angle, on each further iteration the value of angle is reduced by rotating the vector by fixed amount."
   ]
  },
  {
   "cell_type": "markdown",
   "metadata": {},
   "source": [
    "Equations used in rotation mode are:"
   ]
  },
  {
   "cell_type": "markdown",
   "metadata": {},
   "source": [
    "\\begin{equation}\n",
    "    x_{i+1} = x_{i} - y_{i} \\cdot d_{i} \\cdot 2^{-i}      \n",
    "\\end{equation}\n",
    "\n",
    "\\begin{equation}\n",
    "    y_{i+1} = y_{i} + x_{i} \\cdot d_{i} \\cdot 2^{-i}\n",
    "\\end{equation}\n",
    "\n",
    "\\begin{equation}\n",
    "    z_{i+1} = Z_{i} - d_{i} \\cdot tan^{-1}(2^{-i})     \n",
    "\\end{equation}"
   ]
  },
  {
   "cell_type": "markdown",
   "metadata": {},
   "source": [
    "\\begin{equation}\n",
    "^{(for \\space i^{th} \\space iteration)}\n",
    "\\end{equation}"
   ]
  },
  {
   "cell_type": "markdown",
   "metadata": {},
   "source": [
    "here Z is also known as angle accumulator since at the end of iterations Z accumulates all the rotations performed"
   ]
  },
  {
   "cell_type": "markdown",
   "metadata": {},
   "source": [
    "Value of $d_{i}$ is chosen such that z reduces at each iteration. Thus after n iterations if z = 0 then"
   ]
  },
  {
   "cell_type": "markdown",
   "metadata": {},
   "source": [
    "\\begin{equation}\n",
    "    x_{n} = A_{n} \\cdot [ x_{0} \\cdot cos z_{0} - y_{0} \\cdot sin z_{0} ]      \n",
    "\\end{equation}\n",
    "\n",
    "\\begin{equation}\n",
    "    y_{n} = A_{n} \\cdot [ y_{0} \\cdot cos z_{0} + x_{0} \\cdot sin z_{0} ]      \n",
    "\\end{equation}\n",
    "\n",
    "\\begin{equation}\n",
    "    z_{n} = 0\n",
    "\\end{equation}"
   ]
  },
  {
   "cell_type": "markdown",
   "metadata": {},
   "source": [
    "where \n",
    "\n",
    "\\begin{equation}\n",
    "    A_{n} = {\\displaystyle \\prod_{i=0} ^{n}} \\sqrt{1+2^{-2i}}\n",
    "\\end{equation}"
   ]
  },
  {
   "cell_type": "markdown",
   "metadata": {},
   "source": [
    "Equations used above are for circular coordinate system for rest of the co-ordinate system results are summarised in the table below:"
   ]
  },
  {
   "cell_type": "markdown",
   "metadata": {
    "collapsed": true
   },
   "source": [
    "\\begin{array}{|l|l|l|l|l|l|l|}\n",
    "\\hline \n",
    "Coordinate~System & x_{in} & y_{in} & z_{in} & x_{out}    & y_{out}    & z_{out} \\\\ \\hline\n",
    "Linear            & x      & 0      & z      & x          & x*z        & 0       \\\\ \\hline\n",
    "Circular          & 0.6073 & 0      & z      & \\cos{(z)}  & \\sin{(z)}   & 0       \\\\ \\hline\n",
    "Hyperbolic        & 1.2075 & 0      & z      & \\cosh{(z)} & \\sinh{(z)} & 0       \\\\ \\hline\n",
    "\\end{array}"
   ]
  },
  {
   "cell_type": "markdown",
   "metadata": {},
   "source": [
    "## Imports and global declarations"
   ]
  },
  {
   "cell_type": "markdown",
   "metadata": {},
   "source": [
    "General import statements, we'll use matplotlib to plot graphs"
   ]
  },
  {
   "cell_type": "code",
   "execution_count": 1,
   "metadata": {},
   "outputs": [],
   "source": [
    "%matplotlib inline\n",
    "\n",
    "import matplotlib\n",
    "import numpy as np\n",
    "import matplotlib.pyplot as plt\n",
    "\n",
    "import math\n",
    "import string\n",
    "import struct\n",
    "\n",
    "from __future__ import division"
   ]
  },
  {
   "cell_type": "markdown",
   "metadata": {},
   "source": [
    "Variables to identify circular, linear and hyperbolic mode"
   ]
  },
  {
   "cell_type": "code",
   "execution_count": 2,
   "metadata": {
    "collapsed": true
   },
   "outputs": [],
   "source": [
    "circular = 1\n",
    "linear = 0\n",
    "hyperbolic = -1"
   ]
  },
  {
   "cell_type": "markdown",
   "metadata": {},
   "source": [
    "Method to plot values"
   ]
  },
  {
   "cell_type": "code",
   "execution_count": 3,
   "metadata": {
    "collapsed": true
   },
   "outputs": [],
   "source": [
    "def plot(x_values, y_values, x_label, y_label, plot_label):\n",
    "    # Plot of Value of gain with number of iterations\n",
    "    fig = plt.figure();\n",
    "    ax = fig.add_subplot(111);\n",
    "\n",
    "    line, = ax.plot(x_values, y_values,  lw=2)\n",
    "\n",
    "    ax.set_title(plot_label)\n",
    "    ax.set_xlabel(x_label)\n",
    "    ax.set_ylabel(y_label)\n",
    "    plt.show()\n",
    "    plt.close()\n",
    "    return"
   ]
  },
  {
   "cell_type": "markdown",
   "metadata": {},
   "source": [
    "### Value of $A_{n}$ as $n \\rightarrow \\infty$"
   ]
  },
  {
   "cell_type": "markdown",
   "metadata": {},
   "source": [
    "Calculation of system gain ($A_n$) for circular co-ordinate system these calculation can be extended to other co-ordinate system with slight modification."
   ]
  },
  {
   "cell_type": "code",
   "execution_count": 4,
   "metadata": {},
   "outputs": [
    {
     "data": {
      "image/png": "[encoded data removed]",
      "text/plain": [
       "<matplotlib.figure.Figure at 0x7f04b480c050>"
      ]
     },
     "metadata": {},
     "output_type": "display_data"
    },
    {
     "name": "stdout",
     "output_type": "stream",
     "text": [
      "Gain of the system is 1.64675921114\n"
     ]
    }
   ],
   "source": [
    "gain_val_list = [math.sqrt(2)]  # Stores value of gain after each iteration \n",
    "max_iter_gain = 10              # Max number of iterations for calculating value of gain\n",
    "iterations_list = [0]           # List that Stores the number of iterations performed\n",
    "\n",
    "for i in range (1, max_iter_gain):\n",
    "    gain_val_list.append(gain_val_list[i-1] * math.sqrt(1 + 2**(-2 * i)))\n",
    "    iterations_list.append(i)\n",
    "\n",
    "# Plot for value of gain with each iteration\n",
    "plot(iterations_list, gain_val_list, 'Iterations (i) $\\\\rightarrow$', 'Gain $A_{n}$ $\\\\rightarrow$',\n",
    "     'Variation of A$_{n}$ with number of iterations')\n",
    "print \"Gain of the system is \" + str(gain_val_list[len(gain_val_list) - 1])"
   ]
  },
  {
   "cell_type": "markdown",
   "metadata": {
    "collapsed": true
   },
   "source": [
    "As evident from the plot above $A_{n} \\approx 1.647$ as $n \\rightarrow \\infty$. $A_{n}$ is also refered as the gain of the system."
   ]
  },
  {
   "cell_type": "markdown",
   "metadata": {},
   "source": [
    "## Python implementation of Rotation mode"
   ]
  },
  {
   "cell_type": "markdown",
   "metadata": {},
   "source": [
    "Returns dictionary containing one list for each x, y, z and iterations "
   ]
  },
  {
   "cell_type": "markdown",
   "metadata": {},
   "source": [
    "`ROM_lookup` provides values of constant required for each coordinate system based on iteration count"
   ]
  },
  {
   "cell_type": "code",
   "execution_count": 5,
   "metadata": {
    "collapsed": true
   },
   "outputs": [],
   "source": [
    "def ROM_lookup(iteration, coordinate):\n",
    "    if (coordinate == circular):\n",
    "        return math.degrees(math.atan(2**(-1*iteration)))\n",
    "    elif (coordinate == linear):\n",
    "        return 2**(-1*iteration)\n",
    "    elif (coordinate == hyperbolic):\n",
    "        return (math.atanh(2**(-1*iteration)))"
   ]
  },
  {
   "cell_type": "markdown",
   "metadata": {},
   "source": [
    "`Rotation_mode` returns dictionary of list containing x, y and z values for each iteration"
   ]
  },
  {
   "cell_type": "code",
   "execution_count": 6,
   "metadata": {
    "scrolled": true
   },
   "outputs": [],
   "source": [
    "def rotation_mode(x, y, z, coordinate, iterations):\n",
    "    a = 0.607252935;   # = 1/K\n",
    "    \n",
    "    x_val_list = []\n",
    "    y_val_list = []\n",
    "    z_val_list = []\n",
    "    iterations_list = []\n",
    "\n",
    "    i = 0;                  # Keeps count on number of iterations\n",
    "    \n",
    "    current_x = x         # Value of X on ith iteration \n",
    "    current_y = y         # Value of Y on ith iteration\n",
    "    current_z = z         # Value of Z on ith iteration\n",
    "    \n",
    "    di = 0\n",
    "    \n",
    "    if (coordinate == hyperbolic):\n",
    "        i = 1\n",
    "    else:\n",
    "        i = 0\n",
    "        \n",
    "    flag = 0\n",
    "    \n",
    "    if (iterations > 0):\n",
    "        while (i < iterations):\n",
    "            if (current_z < 0):\n",
    "                di = -1\n",
    "            else:\n",
    "                di = +1\n",
    "            next_z = current_z - di * ROM_lookup(i, coordinate)\n",
    "            next_x = current_x - coordinate * di * current_y * (2**(-1*i))\n",
    "            next_y = current_y + di * current_x * 2**(-1*i)\n",
    "            \n",
    "            current_x = next_x\n",
    "            current_y = next_y\n",
    "            current_z = next_z\n",
    "\n",
    "            x_val_list.append(current_x)\n",
    "            y_val_list.append(current_y)\n",
    "            z_val_list.append(current_z)\n",
    "            \n",
    "            iterations_list.append(i)\n",
    "            \n",
    "            if (coordinate == hyperbolic):\n",
    "                if ((i != 4) & (i != 13) & (i!=40)):\n",
    "                    i = i+1\n",
    "                elif (flag == 0):\n",
    "                    flag = 1\n",
    "                elif (flag == 1):\n",
    "                    flag = 0\n",
    "                    i = i+1\n",
    "            else:\n",
    "                i = i+1\n",
    "    return { 'x':x_val_list, 'y':y_val_list, 'z':z_val_list, 'iteration':iterations_list, }"
   ]
  },
  {
   "cell_type": "markdown",
   "metadata": {},
   "source": [
    "Next parameters given to `rotation_mode` are specified to get corresponding results, here *Circular mode* is used so the results are $x=\\cos(\\theta)$, $y=\\sin(\\theta)$ and $z=0$."
   ]
  },
  {
   "cell_type": "markdown",
   "metadata": {},
   "source": [
    "## Calculation of Rotation mode"
   ]
  },
  {
   "cell_type": "markdown",
   "metadata": {},
   "source": [
    "Change these values to calculate plot for different angles "
   ]
  },
  {
   "cell_type": "code",
   "execution_count": 7,
   "metadata": {
    "collapsed": true
   },
   "outputs": [],
   "source": [
    "rot_x = 0.2\n",
    "rot_y = 0.1\n",
    "rot_z = 0.15\n",
    "crd_sys = linear\n",
    "max_iter = 20"
   ]
  },
  {
   "cell_type": "code",
   "execution_count": 8,
   "metadata": {
    "collapsed": true
   },
   "outputs": [],
   "source": [
    "result_dict = rotation_mode(rot_x, rot_y, rot_z, crd_sys, max_iter)"
   ]
  },
  {
   "cell_type": "markdown",
   "metadata": {},
   "source": [
    "### Plot of $x_i$"
   ]
  },
  {
   "cell_type": "code",
   "execution_count": 9,
   "metadata": {},
   "outputs": [
    {
     "data": {
      "image/png": "[encoded data removed]",
      "text/plain": [
       "<matplotlib.figure.Figure at 0x7f04b0f8ba10>"
      ]
     },
     "metadata": {},
     "output_type": "display_data"
    },
    {
     "name": "stdout",
     "output_type": "stream",
     "text": [
      "Xn = 0.2\n"
     ]
    }
   ],
   "source": [
    "plot(result_dict['iteration'], result_dict['x'], 'Iterations $\\\\rightarrow$', 'cos z$_{0}$ $\\\\rightarrow$', '')\n",
    "print \"Xn = \" + str(result_dict['x'][max_iter-1])"
   ]
  },
  {
   "cell_type": "markdown",
   "metadata": {},
   "source": [
    "### Plot of $y_i$"
   ]
  },
  {
   "cell_type": "code",
   "execution_count": 10,
   "metadata": {
    "scrolled": true
   },
   "outputs": [
    {
     "data": {
      "image/png": "[encoded data removed]",
      "text/plain": [
       "<matplotlib.figure.Figure at 0x7f04b0e85d50>"
      ]
     },
     "metadata": {},
     "output_type": "display_data"
    },
    {
     "name": "stdout",
     "output_type": "stream",
     "text": [
      "Yn = 0.129999923706\n"
     ]
    }
   ],
   "source": [
    "plot(result_dict['iteration'], result_dict['y'], 'Iterations $\\\\rightarrow$', 'sin z$_{0}$ $\\\\rightarrow$', '')\n",
    "print \"Yn = \" + str(result_dict['y'][max_iter-1])"
   ]
  },
  {
   "cell_type": "markdown",
   "metadata": {},
   "source": [
    "### Plot of $z_i$"
   ]
  },
  {
   "cell_type": "code",
   "execution_count": 11,
   "metadata": {},
   "outputs": [
    {
     "data": {
      "image/png": "[encoded data removed]",
      "text/plain": [
       "<matplotlib.figure.Figure at 0x7f04b0d950d0>"
      ]
     },
     "metadata": {},
     "output_type": "display_data"
    },
    {
     "name": "stdout",
     "output_type": "stream",
     "text": [
      "Zn = 3.81469726585e-07\n"
     ]
    }
   ],
   "source": [
    "plot(result_dict['iteration'], result_dict['z'], 'i $\\\\rightarrow$', 'z$_{i}$ $\\\\rightarrow$', '')\n",
    "print \"Zn = \" + str(result_dict['z'][max_iter-1])"
   ]
  },
  {
   "cell_type": "markdown",
   "metadata": {},
   "source": [
    "# Python implementation of vector mode\n",
    "In vector mode vector is initialised with given angle, on each further iteration the value of angle is reduced by rotating the vector by fixed amount.\n",
    "\n",
    "Equations used in vector mode are (same as rotation mode):\n",
    "\n",
    "\n",
    "\\begin{equation}\n",
    "    x_{i+1} = x_{i} - y_{i} \\cdot d_{i} \\cdot 2^{-i}      \n",
    "\\end{equation}\n",
    "\n",
    "\n",
    "\\begin{equation}\n",
    "    y_{i+1} = y_{i} + x_{i} \\cdot d_{i} \\cdot 2^{-i}\n",
    "\\end{equation}\n",
    "\n",
    "\\begin{equation}\n",
    "    z_{i+1} = Z_{i} - d_{i} \\cdot tan^{-1}(2^{-i})     \n",
    "\\end{equation}\n",
    "\n",
    "\n",
    "\\begin{equation}\n",
    "^{(for \\space i^{th} \\space iteration)}\n",
    "\\end{equation}\n",
    "\n",
    "Value of $d_{i}$ is chosen such that z reduces at each iteration. Thus after n iterations if z = 0 then\n",
    "\n",
    "\n",
    "\\begin{equation}\n",
    "    x_{n} = A_{n} \\sqrt{ x_{0}^{2} - y_{0}^{2} }\n",
    "\\end{equation}\n",
    "\n",
    "\\begin{equation}\n",
    "    y_{n} = 0\n",
    "\\end{equation}\n",
    "\n",
    "\\begin{equation}\n",
    "    z_{n} = z_{0} + tanh^{-1}( \\dfrac{y_{0}}{x_{0}} )\n",
    "\\end{equation}\n",
    "\n",
    "where \n",
    "\n",
    "\\begin{equation}\n",
    "    A_{n} = {\\displaystyle \\prod_{i=0} ^{n}} \\sqrt{1+2^{-2i}}\n",
    "\\end{equation}"
   ]
  },
  {
   "cell_type": "code",
   "execution_count": 12,
   "metadata": {
    "collapsed": true
   },
   "outputs": [],
   "source": [
    "def vector_mode(x, y, z, coordinate, iterations):\n",
    "    a = 1.2075;   # = 1/K\n",
    "    \n",
    "    x_val_list = []\n",
    "    y_val_list = []\n",
    "    z_val_list = []\n",
    "    iterations_list = []\n",
    "\n",
    "    i = 0;                  # Keeps count on number of iterations\n",
    "    \n",
    "    current_x = x         # Value of X on ith iteration \n",
    "    current_y = y         # Value of Y on ith iteration\n",
    "    current_z = z         # Value of Z on ith iteration\n",
    "    \n",
    "    di = 0\n",
    "    \n",
    "    # This is neccesary since result for i=0 doesn't exists for hyperbolic \n",
    "    # co-ordinate system.\n",
    "    if (coordinate == hyperbolic):\n",
    "        i = 1\n",
    "    else:\n",
    "        i = 0\n",
    "        \n",
    "    flag = 0\n",
    "    \n",
    "    if (iterations > 0):\n",
    "        while (i < iterations):\n",
    "            di = -1*math.copysign(1, current_y);#*current_x);\n",
    "            next_x = current_x - coordinate * di * current_y * (2**(-1*i))\n",
    "            next_y = current_y + di * current_x * 2**(-1*i)\n",
    "            next_z = current_z - di * ROM_lookup(i, coordinate)\n",
    "            \n",
    "            current_x = next_x\n",
    "            current_y = next_y\n",
    "            current_z = next_z\n",
    "\n",
    "            x_val_list.append(current_x)\n",
    "            y_val_list.append(current_y)\n",
    "            z_val_list.append(current_z)\n",
    "            \n",
    "            iterations_list.append(i)\n",
    "            \n",
    "            if (coordinate == hyperbolic):\n",
    "                if ((i != 4) & (i != 13) & (i!=40)):\n",
    "                    i = i+1\n",
    "                elif (flag == 0):\n",
    "                    flag = 1\n",
    "                elif (flag == 1):\n",
    "                    flag = 0\n",
    "                    i = i+1\n",
    "            else:\n",
    "                i = i+1\n",
    "    return { 'x':x_val_list, 'y':y_val_list, 'z':z_val_list, 'iteration':iterations_list }"
   ]
  },
  {
   "cell_type": "markdown",
   "metadata": {},
   "source": [
    "> **NOTE:** Method used here to calculate decision vector ($d_i$) is based on modified technique of what was mentioned originally in *Andraka, Ray (1998)* paper on CORDIC algorithms[1]. Here $d_i~=~x_i \\cdot y_i$ instead of $d_i~=~y_i$. This allows greater range values and allows convergence of algorithm in case of $x_{o} < y_{o}$."
   ]
  },
  {
   "cell_type": "markdown",
   "metadata": {},
   "source": [
    "## Calculations of vector mode"
   ]
  },
  {
   "cell_type": "markdown",
   "metadata": {},
   "source": [
    "Change these values to calculate plot for different values "
   ]
  },
  {
   "cell_type": "code",
   "execution_count": 13,
   "metadata": {},
   "outputs": [],
   "source": [
    "vect_x = 2\n",
    "vect_y = 1\n",
    "vect_z = 1.5\n",
    "crd_sys = linear\n",
    "max_iter = 20"
   ]
  },
  {
   "cell_type": "code",
   "execution_count": 14,
   "metadata": {},
   "outputs": [],
   "source": [
    "result_dict_vect = vector_mode(vect_x, vect_y, vect_z, crd_sys, max_iter)"
   ]
  },
  {
   "cell_type": "markdown",
   "metadata": {},
   "source": [
    "### Plot of $x_i$"
   ]
  },
  {
   "cell_type": "code",
   "execution_count": 15,
   "metadata": {
    "scrolled": false
   },
   "outputs": [
    {
     "data": {
      "image/png": "[encoded data removed]",
      "text/plain": [
       "<matplotlib.figure.Figure at 0x7f04b0e27090>"
      ]
     },
     "metadata": {},
     "output_type": "display_data"
    },
    {
     "name": "stdout",
     "output_type": "stream",
     "text": [
      "Xn = 2.0\n"
     ]
    }
   ],
   "source": [
    "plot(result_dict_vect['iteration'], result_dict_vect['x'], 'Iterations $\\\\rightarrow$', '$x_i$ $\\\\rightarrow$', '')\n",
    "print \"Xn = \" + str(result_dict_vect['x'][max_iter-1])"
   ]
  },
  {
   "cell_type": "markdown",
   "metadata": {},
   "source": [
    "### Plot of $y_i$"
   ]
  },
  {
   "cell_type": "code",
   "execution_count": 16,
   "metadata": {
    "scrolled": false
   },
   "outputs": [
    {
     "data": {
      "image/png": "[encoded data removed]",
      "text/plain": [
       "<matplotlib.figure.Figure at 0x7f04b0eea0d0>"
      ]
     },
     "metadata": {},
     "output_type": "display_data"
    },
    {
     "name": "stdout",
     "output_type": "stream",
     "text": [
      "Yn = -3.81469726562e-06\n"
     ]
    }
   ],
   "source": [
    "plot(result_dict_vect['iteration'], result_dict_vect['y'], 'Iterations $\\\\rightarrow$', '$y_i$ $\\\\rightarrow$', '')\n",
    "print \"Yn = \" + str(result_dict_vect['y'][max_iter-1])"
   ]
  },
  {
   "cell_type": "markdown",
   "metadata": {},
   "source": [
    "### Plot of $z_i$"
   ]
  },
  {
   "cell_type": "code",
   "execution_count": 17,
   "metadata": {},
   "outputs": [
    {
     "data": {
      "image/png": "[encoded data removed]",
      "text/plain": [
       "<matplotlib.figure.Figure at 0x7f04b11b3850>"
      ]
     },
     "metadata": {},
     "output_type": "display_data"
    },
    {
     "name": "stdout",
     "output_type": "stream",
     "text": [
      "Zn = 2.00000190735\n"
     ]
    }
   ],
   "source": [
    "plot(result_dict_vect['iteration'], result_dict_vect['z'], 'Iterations $\\\\rightarrow$', '$z_i$ $\\\\rightarrow$', '')\n",
    "print \"Zn = \" + str(result_dict_vect['z'][max_iter-1])"
   ]
  },
  {
   "cell_type": "markdown",
   "metadata": {},
   "source": [
    "## Precalculated results\n",
    "Results presented in this section are without the script that generated these"
   ]
  },
  {
   "cell_type": "markdown",
   "metadata": {},
   "source": [
    "<img src=\"errorBitPlot.png\" width=\"500\" height=\"500\" />"
   ]
  },
  {
   "cell_type": "markdown",
   "metadata": {},
   "source": [
    "Variation of X and error bit with iteration for initial values $x_0=0.6073$, $y_0=0$ & $z_0=60^{\\circ}$. With each iteration most significant bit with error in difference of expected value and output of algorithm was noted. Note that the error bit was calculated after converting output to fixed point un- signed binary number."
   ]
  },
  {
   "cell_type": "markdown",
   "metadata": {},
   "source": [
    "This graph represents typical convergence of algorithm which is about 1 bit per iteration."
   ]
  },
  {
   "cell_type": "markdown",
   "metadata": {},
   "source": [
    "## Notes"
   ]
  },
  {
   "cell_type": "markdown",
   "metadata": {},
   "source": [
    "This is not exact python implmentation of Ray Andraka's paper, instead some of the errors have been rectified and some modification has been performed to extend range and produce correct results. These have been listed below:\n",
    "* In linear co-ordinate system vectoring mode result is $z_n = z_0 + y_0/x_0$ instead of $z_n = z_0 - y_0/x_0$  as mentioned in the paper.\n",
    "* Update rule for decision vector in vectoring mode is $d_i = x_i \\cdot y_i$. On using this modification hyperbolic mode will output $x_n = A_n\\sqrt{\\left|x_0^2 - x_0^2\\right|}$, $y_n = 0$ and $z_n = z_0 + \\text{tanh}^{-1}(\\frac{y_0}{x_0})$"
   ]
  },
  {
   "cell_type": "markdown",
   "metadata": {
    "collapsed": true
   },
   "source": [
    "# References\n",
    "1. [*A survey of CORDIC algorithms for FPGA based computers*](http://portal.acm.org/citation.cfm?doid=275107.275139) by Andraka, Ray (1998).\n",
    "2. *Cordic Architeutre - QIP STC-Image Processing using VLSI architecture* by Das, Bishnu Prasad (2016).\n",
    "3. Wikibooks contributors, \"[*Digital Circuits/CORDIC*](https://en.wikibooks.org/w/index.php?title=Digital_Circuits/CORDIC&oldid=3048211),\" Wikibooks, The Free Textbook Project, (accessed\n",
    "June 8, 2017). "
   ]
  }
 ],
 "metadata": {
  "kernelspec": {
   "display_name": "Python 3",
   "language": "python",
   "name": "python3"
  },
  "language_info": {
   "codemirror_mode": {
    "name": "ipython",
    "version": 3
   },
   "file_extension": ".py",
   "mimetype": "text/x-python",
   "name": "python",
   "nbconvert_exporter": "python",
   "pygments_lexer": "ipython3",
   "version": "3.6.6"
  }
 },
 "nbformat": 4,
 "nbformat_minor": 2
}
